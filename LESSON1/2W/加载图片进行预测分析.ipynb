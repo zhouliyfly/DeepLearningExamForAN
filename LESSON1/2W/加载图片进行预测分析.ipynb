{
 "cells": [
  {
   "cell_type": "markdown",
   "metadata": {},
   "source": [
    "# 加载图片进行预测分析"
   ]
  },
  {
   "cell_type": "markdown",
   "metadata": {},
   "source": [
    "1. 读取文件夹中所有图片\n",
    "2. 将图片信息转换为数据集\n",
    "3. 利用深度学习模型进行预测"
   ]
  },
  {
   "cell_type": "code",
   "execution_count": 2,
   "metadata": {
    "collapsed": true
   },
   "outputs": [],
   "source": [
    "import numpy as np\n",
    "import os"
   ]
  },
  {
   "cell_type": "code",
   "execution_count": 3,
   "metadata": {
    "collapsed": true
   },
   "outputs": [],
   "source": [
    "def read_pic_to_array(file_name, num_px, num_py):\n",
    "    \"\"\"\n",
    "    加载RGB图片文件，根据指定像素重设图片信息\n",
    "\n",
    "    Arguments:\n",
    "    file_name -- 图片路径\n",
    "    num_px, num_py -- 指定图片像素\n",
    "\n",
    "    Returns:\n",
    "    my_image -- 图片数据，类型为narray\n",
    "    \"\"\"\n",
    "    \n",
    "    image = np.array(ndimage.imread(file_name, flatten = False))\n",
    "    my_image = scipy.misc.imresize(image, size = (num_px, num_py))\n",
    "    \n",
    "    return my_image"
   ]
  },
  {
   "cell_type": "code",
   "execution_count": 1,
   "metadata": {
    "collapsed": true
   },
   "outputs": [],
   "source": [
    "def load_pictures(path = 'images', num_px = 64, num_py = 64):\n",
    "    \"\"\"\n",
    "    读取文件夹中所有图片并转换成数据矩阵\n",
    "\n",
    "    Arguments:\n",
    "    path -- 图片文件夹路径\n",
    "    num_px, num_py -- 指定图片像素大小\n",
    "\n",
    "    Returns:\n",
    "    test_set_x_orig -- 图片数据矩阵，类型为narray(num_pic, num_px, num_px, 3)\n",
    "    file_names -- 图片文件名列表\n",
    "    \"\"\"\n",
    "    \n",
    "    # 搜寻文件夹下所有图片文件\n",
    "    file_names = os.listdir(path)\n",
    "    \n",
    "    # 读取所有图片文件\n",
    "    images = []\n",
    "    for f_name in file_names:\n",
    "        path_file = path + f_name\n",
    "        images.append(read_pic_to_array(path_file, px, py))\n",
    "    \n",
    "    # 将图片数据转换成矩阵(num_pic, num_px, num_px, 3)\n",
    "    test_set_x_orig = np.array(images)\n",
    "    \n",
    "    return test_set_x_orig, file_names"
   ]
  },
  {
   "cell_type": "code",
   "execution_count": 4,
   "metadata": {
    "collapsed": true
   },
   "outputs": [],
   "source": [
    "def data_handle(test_set_x_orig):\n",
    "    \"\"\"\n",
    "    整理图片数据格式，每张图片对应一个列向量排列成一个矩阵(num_px * num_px * 3, num_pic)\n",
    "\n",
    "    Arguments:\n",
    "    test_set_x_orig -- 待预测图片数据 narray(num_pic, num_px, num_px, 3)\n",
    "\n",
    "    Returns:\n",
    "    test_set_x -- 图片数据矩阵(num_px * num_px * 3, num_pic)\n",
    "    \"\"\"\n",
    "    \n",
    "    # 整理数据，每张图片对应一个列向量\n",
    "    test_set_x_flatten = test_set_x_orig.reshape(test_set_x_orig.shape[0], -1).T\n",
    "\n",
    "    # 图片数据标准化\n",
    "    test_set_x = test_set_x_flatten/255.\n",
    "    \n",
    "    return test_set_x"
   ]
  },
  {
   "cell_type": "code",
   "execution_count": null,
   "metadata": {
    "collapsed": true
   },
   "outputs": [],
   "source": [
    "test_set_x_orig, pic_names = load_pictures()\n",
    "test_set_x = data_handle(test_set_x_orig)\n",
    "\n",
    "# 利用逻辑回归预测图片\n",
    "# my_predicted_image = predict(d[\"w\"], d[\"b\"], test_set_x)"
   ]
  }
 ],
 "metadata": {
  "kernelspec": {
   "display_name": "Python 3",
   "language": "python",
   "name": "python3"
  },
  "language_info": {
   "codemirror_mode": {
    "name": "ipython",
    "version": 3
   },
   "file_extension": ".py",
   "mimetype": "text/x-python",
   "name": "python",
   "nbconvert_exporter": "python",
   "pygments_lexer": "ipython3",
   "version": "3.6.1"
  },
  "toc": {
   "nav_menu": {},
   "number_sections": false,
   "sideBar": true,
   "skip_h1_title": false,
   "toc_cell": false,
   "toc_position": {},
   "toc_section_display": "block",
   "toc_window_display": false
  }
 },
 "nbformat": 4,
 "nbformat_minor": 2
}
